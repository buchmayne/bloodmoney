{
 "cells": [
  {
   "cell_type": "code",
   "execution_count": null,
   "metadata": {},
   "outputs": [],
   "source": [
    "import pandas as pd\n",
    "import numpy as np\n",
    "import psycopg2\n",
    "\n",
    "pd.set_option('display.max_columns', None)"
   ]
  },
  {
   "cell_type": "code",
   "execution_count": null,
   "metadata": {},
   "outputs": [],
   "source": [
    "conn = psycopg2.connect(\n",
    "        host=\"localhost\",\n",
    "        database=\"bloodmoneydb\",\n",
    "        user=\"postgres\",\n",
    "        password=\"password\"\n",
    ")"
   ]
  },
  {
   "cell_type": "code",
   "execution_count": null,
   "metadata": {},
   "outputs": [],
   "source": [
    "sql_query = \"\"\"\n",
    "    SELECT *\n",
    "    FROM joined_fight_event_fighters_data\n",
    "\"\"\"\n",
    "\n",
    "df = pd.read_sql_query(sql_query, con=conn)"
   ]
  },
  {
   "cell_type": "markdown",
   "metadata": {},
   "source": [
    "Possible avenues for feature engineering and preprocessing:\n",
    "\n",
    "* Encode whether a given fighter is local (city/state) or from the same country that is hosting an event\n",
    "\n",
    "* Age at time of the fight\n",
    "\n",
    "* Win streak (can encode a losing streak as a negative win streak)\n",
    "\n",
    "* Define a way to measure the typical length of a fighter's fights"
   ]
  },
  {
   "cell_type": "code",
   "execution_count": null,
   "metadata": {},
   "outputs": [],
   "source": [
    "def convert_event_date_and_fighter_dob_to_datetime(df, date_col='date', dob_col='date'):\n",
    "    '''\n",
    "    Convert date and dob columns to pandas datetime\n",
    "    '''\n",
    "    df[date_col] = pd.to_datetime(df[date_col])\n",
    "    df[dob_col] = pd.to_datetime(df[dob_col])\n",
    "    \n",
    "    return df\n",
    "\n",
    "def calculate_age_of_fighter(df, date_col='date', dob_col='dob'):\n",
    "    '''\n",
    "    Calculate the age of the fighter in years:\n",
    "    Input:\n",
    "        df: pd.DataFrame\n",
    "        date_col: str (Datetime column name for event date)\n",
    "        dob_col: str (Datetime column name for date of birth)\n",
    "    Output:\n",
    "        df: pd.DatFrame\n",
    "            'age' column is an Int of the age of the fighter in years at the time of the event\n",
    "    '''\n",
    "    df = convert_event_date_and_fighter_dob_to_datetime(df=df, date_col='date', dob_col='dob')\n",
    "    df['age'] = df['date'].dt.year - df['dob'].dt.year\n",
    "    \n",
    "    return df"
   ]
  },
  {
   "cell_type": "code",
   "execution_count": null,
   "metadata": {},
   "outputs": [],
   "source": [
    "df = calculate_age_of_fighter(df=df)"
   ]
  },
  {
   "cell_type": "markdown",
   "metadata": {},
   "source": [
    "The event data doesn't provide what state the event is in for USA and other countries. Without geotagging the cities to their respective states it isn't possible to expand the definition of local to be that of fighters from the same state as the event. Not sure if the juice is worth the squeeze here in figuring out how to geocode all the cities (including the international ones). This is one potential option to return to however depending on how relevant the theoretical home town effect is in the modeling. "
   ]
  },
  {
   "cell_type": "code",
   "execution_count": null,
   "metadata": {},
   "outputs": [],
   "source": [
    "def fighter_is_local(row):\n",
    "    '''\n",
    "    Define whether a given fighter is local which is whether the city of the event matches\n",
    "    either the city they're either fighting out of or were born in\n",
    "    '''\n",
    "    if (row['city'] == row['foo_city']) | (row['city'] == row['born_city']):\n",
    "        return True\n",
    "    else:\n",
    "        return False\n",
    "\n",
    "    \n",
    "\n",
    "def fighter_is_national(row):\n",
    "    '''\n",
    "    Define whether a given fighter's represented nation is the same nation hosting the event\n",
    "    '''\n",
    "    if (row['country'] == row['foo_country']) | (row['country'] == row['born_country']):\n",
    "        return True\n",
    "    else:\n",
    "        return False"
   ]
  },
  {
   "cell_type": "code",
   "execution_count": null,
   "metadata": {},
   "outputs": [],
   "source": [
    "df['is_local'] = df.apply(fighter_is_local, axis=1)\n",
    "df['is_national'] = df.apply(fighter_is_national, axis=1)"
   ]
  },
  {
   "cell_type": "markdown",
   "metadata": {},
   "source": [
    "Come up with a measure of fight time that is standardized across fights of different potential length. Will need to be something along the lines of percent of total potential rounds fought. Will need to apply some sort of window function that calculates a rolling percentage of cumulative rounds fought vs. cumulative potential rounds. "
   ]
  },
  {
   "cell_type": "code",
   "execution_count": null,
   "metadata": {},
   "outputs": [],
   "source": [
    "def calculate_pct_of_possible_rounds_fought(df, fighter_id_col='fighter_id', date_col='date'):\n",
    "    '''\n",
    "    Calculate the percentage of scheduled rounds a fighter has fought in throughout their career:\n",
    "    Input:\n",
    "        df: pd.DataFrame\n",
    "        fighter_id_col: str (column name for the fighter_id column)\n",
    "        date_col: str (Datetime column name for event date)\n",
    "    Output:\n",
    "        df: pd.DatFrame\n",
    "            'cumulative_possible_rds' column is an Int of the total schedules rounds in a fighters career up to that point\n",
    "            'cumulative_fought_rds' column is an Int of the total rounds a figher has fought up to that point\n",
    "            'pct_rds_fought' column is a float of the percent of scheduled rounds a fighter has fought in their career\n",
    "    '''\n",
    "    df = df.sort_values([fighter_id_col, date_col])\n",
    "    df['ending_round_num'] = pd.to_numeric(df['ending_round_num'], errors='coerce')\n",
    "    df['possible_rds'] = pd.to_numeric(df['possible_rds'], errors='coerce')\n",
    "\n",
    "    grouped_possible_rounds = df['possible_rds'].groupby(df['fighter_id'])\n",
    "    grouped_fought_rounds = df['ending_round_num'].groupby(df['fighter_id'])\n",
    "\n",
    "    cumulative_possible_rounds = grouped_possible_rounds.cumsum()\n",
    "    cumulative_fought_rounds = grouped_fought_rounds.cumsum()\n",
    "\n",
    "    df['cumulative_possible_rds'] = cumulative_possible_rounds \n",
    "    df['cumulative_fought_rds'] = cumulative_fought_rounds\n",
    "    df['pct_rds_fought'] = df['cumulative_fought_rds'] / df['cumulative_possible_rds']\n",
    "    \n",
    "    return df"
   ]
  }
 ],
 "metadata": {
  "kernelspec": {
   "display_name": "Python 3",
   "language": "python",
   "name": "python3"
  },
  "language_info": {
   "codemirror_mode": {
    "name": "ipython",
    "version": 3
   },
   "file_extension": ".py",
   "mimetype": "text/x-python",
   "name": "python",
   "nbconvert_exporter": "python",
   "pygments_lexer": "ipython3",
   "version": "3.7.5"
  }
 },
 "nbformat": 4,
 "nbformat_minor": 2
}
