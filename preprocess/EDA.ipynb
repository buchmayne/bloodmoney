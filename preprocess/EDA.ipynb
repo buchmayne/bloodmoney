{
 "cells": [
  {
   "cell_type": "code",
   "execution_count": null,
   "metadata": {},
   "outputs": [],
   "source": [
    "import pandas as pd\n",
    "import numpy as np\n",
    "import psycopg2\n",
    "\n",
    "pd.set_option('display.max_columns', None)"
   ]
  },
  {
   "cell_type": "code",
   "execution_count": null,
   "metadata": {},
   "outputs": [],
   "source": [
    "conn = psycopg2.connect(\n",
    "        host=\"localhost\",\n",
    "        database=\"bloodmoneydb\",\n",
    "        user=\"postgres\",\n",
    "        password=\"password\"\n",
    ")"
   ]
  },
  {
   "cell_type": "code",
   "execution_count": null,
   "metadata": {},
   "outputs": [],
   "source": [
    "sql_query = \"\"\"\n",
    "    SELECT *\n",
    "    FROM model_input_tbl_raw\n",
    "\"\"\"\n",
    "\n",
    "df = pd.read_sql_query(sql_query, con=conn)"
   ]
  },
  {
   "cell_type": "code",
   "execution_count": null,
   "metadata": {},
   "outputs": [],
   "source": [
    "keepers = [\n",
    "    'index', \n",
    "    'red_color',\n",
    "    'red_date',\n",
    "    'red_fighter_id',\n",
    "    'red_record_tot_fights',\n",
    "    'red_record_win',\n",
    "    'red_record_loss',\n",
    "    'red_height',\n",
    "    'red_weight',\n",
    "    'red_stance',\n",
    "    'red_outcome',\n",
    "    'red_accolade_name',\n",
    "    'red_weight_class_id',\n",
    "    'red_weight_class_name',\n",
    "    'red_possible_rds',\n",
    "    'red_method',\n",
    "    'red_ending_round_num',\n",
    "    'red_age',\n",
    "    'red_is_local',\n",
    "    'red_is_national',\n",
    "    'red_cumulative_possible_rds',\n",
    "    'red_cumulative_fought_rds',\n",
    "    'red_pct_rds_fought',\n",
    "    'red_win_streak',\n",
    "    'blue_color',\n",
    "    'blue_date',\n",
    "    'blue_fighter_id',\n",
    "    'blue_record_tot_fights',\n",
    "    'blue_record_win',\n",
    "    'blue_record_loss',\n",
    "    'blue_height',\n",
    "    'blue_weight',\n",
    "    'blue_stance',\n",
    "    'blue_outcome',\n",
    "    'blue_accolade_name',\n",
    "    'blue_weight_class_id',\n",
    "    'blue_weight_class_name',\n",
    "    'blue_possible_rds',\n",
    "    'blue_method',\n",
    "    'blue_ending_round_num',\n",
    "    'blue_age',\n",
    "    'blue_is_local',\n",
    "    'blue_is_national',\n",
    "    'blue_cumulative_possible_rds',\n",
    "    'blue_cumulative_fought_rds',\n",
    "    'blue_pct_rds_fought',\n",
    "    'blue_win_streak'\n",
    "]"
   ]
  },
  {
   "cell_type": "code",
   "execution_count": null,
   "metadata": {},
   "outputs": [],
   "source": [
    "df = df[keepers].copy()"
   ]
  },
  {
   "cell_type": "markdown",
   "metadata": {},
   "source": [
    "To Do:\n",
    "\n",
    "* Get counts of the weight class ids and the weight class names to see if there are any anomalies \n",
    "\n",
    "* Get the distribution of wins by color type, needs to be approximately 50%\n",
    "\n",
    "* Create variable for every red-blue combo of locality and stance"
   ]
  },
  {
   "cell_type": "code",
   "execution_count": null,
   "metadata": {},
   "outputs": [],
   "source": [
    "df.groupby(['red_weight_class_id', 'red_weight_class_name']).size()"
   ]
  },
  {
   "cell_type": "code",
   "execution_count": null,
   "metadata": {},
   "outputs": [],
   "source": [
    "df.groupby(['red_color', 'red_outcome']).size()"
   ]
  }
 ],
 "metadata": {
  "kernelspec": {
   "display_name": "Python 3",
   "language": "python",
   "name": "python3"
  },
  "language_info": {
   "codemirror_mode": {
    "name": "ipython",
    "version": 3
   },
   "file_extension": ".py",
   "mimetype": "text/x-python",
   "name": "python",
   "nbconvert_exporter": "python",
   "pygments_lexer": "ipython3",
   "version": "3.7.5"
  }
 },
 "nbformat": 4,
 "nbformat_minor": 2
}
